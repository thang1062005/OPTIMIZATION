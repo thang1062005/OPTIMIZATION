{
 "cells": [
  {
   "cell_type": "markdown",
   "id": "1430ecbe",
   "metadata": {},
   "source": [
    "# 1.Tổng quan \n",
    "- Có m giáo viên từ 0 - m-1\n",
    "- Có n môn từ 0- n-1\n",
    "- mỗi giáo viên sẽ có danh sách preference của mình A[i] = [....]\n",
    "- mỗi môn học có load nhất định, cho theo danh sách L = [...], có n phần tử. Load của môn i là L[i]\n",
    "- có các cặp môn ko thể dạy đồng thời bởi 1 giáo viên  "
   ]
  },
  {
   "cell_type": "markdown",
   "id": "e49b9e39",
   "metadata": {},
   "source": [
    "# 2. Nhập dữ liệu\n",
    "- số lượng giáo viên m, số lượng môn n\n",
    "- ma trận preference A chứa các giá trị 0,1, A[i][j] = 1 nếu giáo viên i có thể dạy môn j, i thuộc [0,m-1],j thuộc [0,n-1]\n",
    "- Danh sách L, L[i] là khối lượng của môn i (i thuộc [0,n-1])\n",
    "- Số lượng cặp môn đối, k\n",
    "- B : list of tuples of contradict courses\n"
   ]
  },
  {
   "cell_type": "code",
   "execution_count": 2,
   "id": "b154e651",
   "metadata": {},
   "outputs": [],
   "source": [
    "from ortools.linear_solver import pywraplp\n",
    "\n",
    "\n",
    "def read_input():\n",
    "    # N\n",
    "    m = int(input())\n",
    "    n = int(input())\n",
    "    # the preference matrix\n",
    "    A = []\n",
    "    for _ in range(0,m):\n",
    "        row = list(map(int, input().split()))\n",
    "        A.append(row)\n",
    "    \n",
    "    L == list(map(int,input().split()))\n",
    "    k = int(input())\n",
    "    B = []\n",
    "    for _ in range(0,k):\n",
    "        tup = tuple(map(int, input().split()))\n",
    "        B.append(tup)\n",
    "    return m,n,A,L,B\n",
    "\n"
   ]
  },
  {
   "cell_type": "markdown",
   "id": "eb077907",
   "metadata": {},
   "source": [
    "# 3. decision vars\n",
    "- X[i,j] là bool var xác nhận giáo viên i dạy môn j\n",
    "- Y[j] là int var trong khoảng [0,n-1],: giáo viên dạy môn j"
   ]
  },
  {
   "cell_type": "code",
   "execution_count": 3,
   "id": "d3547a1d",
   "metadata": {},
   "outputs": [],
   "source": [
    "def create_variables(solver, m,n,A,L,B):\n",
    "   \n",
    "    X = {}\n",
    "    for i in range(0,m):\n",
    "        for j in range(0,n):\n",
    "            X[i, j] = solver.BoolVar(f'X[{i},{j}]')\n",
    "    Y = {}\n",
    "    for j in range(0,n):\n",
    "        Y[j]= solver.IntVar(0,m-1,f'Y[{j}]')\n",
    "\n",
    "    Z= solver.IntVar(0,solver.infinity(),'Z')    \n",
    "    return X,Y,Z"
   ]
  },
  {
   "cell_type": "markdown",
   "id": "ed9924c9",
   "metadata": {},
   "source": [
    "# 4.constraints"
   ]
  },
  {
   "cell_type": "code",
   "execution_count": 7,
   "id": "6ce79a66",
   "metadata": {},
   "outputs": [],
   "source": [
    "import math\n",
    "def add_constraints(solver,X,Y,Z ,m,n,A,L,B):\n",
    "    \n",
    "    # mỗi môn đc đúng 1 giáo viên dạy\n",
    "    for j in range(n):\n",
    "        solver.Add(solver.Sum(X[i, j] for i in range(m)) == 1) \n",
    "    \n",
    "    # môn dạy phải nằm trong preference cùa giáo viên\n",
    "    for i in range(m):\n",
    "        for j in range(n):\n",
    "            solver.Add(X[i,j] <= A[i][j])\n",
    "    # no conflict\n",
    "    for t in range(m):\n",
    "        for a in range(n):\n",
    "            for b in range(n):\n",
    "                if (((a,b) in B) or ((b,a) in B)) and a!=b:\n",
    "                    solver.Add(X[t,a]+X[t,b]<= 1)          \n",
    "    for i in range(m):\n",
    "        solver.Add(Z >= solver.Sum(X[i,j]*L[j] for j in range(n)))"
   ]
  },
  {
   "cell_type": "code",
   "execution_count": null,
   "id": "37922b19",
   "metadata": {},
   "outputs": [],
   "source": []
  },
  {
   "cell_type": "code",
   "execution_count": 8,
   "id": "f76ba5b1",
   "metadata": {},
   "outputs": [
    {
     "name": "stdout",
     "output_type": "stream",
     "text": [
      "15.0\n"
     ]
    }
   ],
   "source": [
    "def main():\n",
    "    # Create solver\n",
    "    solver = pywraplp.Solver.CreateSolver('SCIP')\n",
    "    \n",
    "    # Read input\n",
    "    m = 3\n",
    "    n = 13\n",
    "    A= [[1, 0 ,1, 1, 1,0 ,0 ,0 ,1, 0, 1, 0, 0], \n",
    "        [1, 1, 1 ,1, 0 ,1 ,1, 1 ,1 ,0, 0 ,0, 0],\n",
    "        [0 ,1 ,1 ,1 ,0 ,0,0 ,1 ,0 ,1,0 ,1 ,1]]  \n",
    "    L = [3 ,3 , 4, 3, 4 ,3, 3, 3, 4, 3, 3, 4 ,4] \n",
    "    k= 12\n",
    "    B =[(0, 2), (0, 4), (0, 8), (1, 4), (1, 10), (3, 7), (3, 9), (5, 11), (5, 12), (6, 8), (6, 12)]\n",
    "    # Create variables\n",
    "    X,Y,Z = create_variables(solver, m,n,A,L,B)\n",
    "    \n",
    "    # Set objective: minimize maximum distance\n",
    "    solver.Minimize(Z)\n",
    "    \n",
    "    # Add constraints\n",
    "    add_constraints(solver,X,Y,Z, m,n,A,L,B)\n",
    "    \n",
    "    # Solve the problem\n",
    "    status = solver.Solve()\n",
    "    \n",
    "    # Output results\n",
    "    if status == pywraplp.Solver.OPTIMAL:\n",
    "        print(Z.solution_value())\n",
    "\n",
    "    else:\n",
    "        print('No optimal solution found.')\n",
    "\n",
    "main()"
   ]
  }
 ],
 "metadata": {
  "kernelspec": {
   "display_name": "Python 3 (ipykernel)",
   "language": "python",
   "name": "python3"
  },
  "language_info": {
   "codemirror_mode": {
    "name": "ipython",
    "version": 3
   },
   "file_extension": ".py",
   "mimetype": "text/x-python",
   "name": "python",
   "nbconvert_exporter": "python",
   "pygments_lexer": "ipython3",
   "version": "3.11.4"
  }
 },
 "nbformat": 4,
 "nbformat_minor": 5
}
