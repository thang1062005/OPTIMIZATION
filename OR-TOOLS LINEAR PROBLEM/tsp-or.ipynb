{
 "cells": [
  {
   "cell_type": "markdown",
   "id": "c0c8121b",
   "metadata": {},
   "source": [
    "# read the input\n",
    "- first line: N (số thành phố cần thăm) (đi từ thành phố 0 đến thành phố N-1)\n",
    "- ma trận khoảng cách d(i,j): khoảng cách giữa thành phố i & j"
   ]
  },
  {
   "cell_type": "code",
   "execution_count": 4,
   "id": "0443394e",
   "metadata": {},
   "outputs": [],
   "source": [
    "from ortools.linear_solver import pywraplp\n",
    "\n",
    "\n",
    "def read_input():\n",
    "    # N\n",
    "    N = int(input())\n",
    "    # Read distance matrix\n",
    "    distance_matrix = []\n",
    "    for _ in range(0,N):\n",
    "        row = list(map(int, input().split()))\n",
    "        distance_matrix.append(row)\n",
    "        \n",
    "    return N, distance_matrix\n",
    "\n"
   ]
  },
  {
   "cell_type": "markdown",
   "id": "db7dd533",
   "metadata": {},
   "source": [
    "# create decision vars\n",
    "- X[i,j]: binary var, if there exist direct path from i to j\n"
   ]
  },
  {
   "cell_type": "code",
   "execution_count": 5,
   "id": "5d41ce81",
   "metadata": {},
   "outputs": [],
   "source": [
    "def create_variables(solver, N):\n",
    "   \n",
    "    X = {}\n",
    "    for i in range(0,N):\n",
    "        for j in range(0,N):\n",
    "            X[i, j] = solver.BoolVar(f'X[{i},{j}]')\n",
    "    \n",
    "    return X"
   ]
  },
  {
   "cell_type": "markdown",
   "id": "5f259ee7",
   "metadata": {},
   "source": [
    "# add constraints\n",
    "- Vào 1 lần ra 1 lần :  sum of X[i,j] (j from 0 to N-1) = sum of X[j,i] (j from 0 to N-1) = 1 \n",
    "- Subtour Elimination: "
   ]
  },
  {
   "cell_type": "code",
   "execution_count": 17,
   "id": "442858d9",
   "metadata": {},
   "outputs": [],
   "source": [
    "def add_constraints(solver, N,X, distance_matrix):\n",
    "    \n",
    "    for i in range(N):\n",
    "        solver.Add(solver.Sum(X[i, j] for j in range(N) if i != j) == 1)  # Exit constraint\n",
    "        solver.Add(solver.Sum(X[j, i] for j in range(N) if i != j) == 1)  # Enter constraint\n",
    "    # MTZ Constraints for Subtour Elimination\n",
    "    # U la thu tu tham cac thanh pho\n",
    "    \n",
    "    u = [solver.IntVar(0, N - 1, f'u[{i}]') for i in range(N)]\n",
    "    \n",
    "    # \n",
    "    for i in range(1, N):\n",
    "        for j in range(1, N):\n",
    "            if i != j:\n",
    "                solver.Add(u[i] - u[j] + N * X[i, j] <= N - 1)\n",
    "    "
   ]
  },
  {
   "cell_type": "markdown",
   "id": "0bdc29bc",
   "metadata": {},
   "source": [
    "# extract route\n"
   ]
  },
  {
   "cell_type": "code",
   "execution_count": 7,
   "id": "4f7a9ccd",
   "metadata": {},
   "outputs": [],
   "source": [
    "def extract_routes(X,N):\n",
    "    solution = []\n",
    "    for i in range(N):\n",
    "        for j in range(N):\n",
    "            if i != j and X[i, j].solution_value() > 0.5:\n",
    "                solution.append((i, j))\n",
    "    return solution"
   ]
  },
  {
   "cell_type": "markdown",
   "id": "2fe847ee",
   "metadata": {},
   "source": [
    "# main"
   ]
  },
  {
   "cell_type": "code",
   "execution_count": 22,
   "id": "341cf86b",
   "metadata": {},
   "outputs": [
    {
     "name": "stdout",
     "output_type": "stream",
     "text": [
      "80.0\n",
      "[(0, 1), (1, 3), (2, 0), (3, 2)]\n"
     ]
    }
   ],
   "source": [
    "def main():\n",
    "    # Create solver\n",
    "    solver = pywraplp.Solver.CreateSolver('SCIP')\n",
    "    \n",
    "    # Read input\n",
    "    N = 4\n",
    "    distance_matrix= [[0, 10, 15, 20], [10, 0, 35, 25], [15, 35, 0, 30], [20, 25, 30, 0]] \n",
    "    \n",
    "    # Create variables\n",
    "    X = create_variables(solver, N)\n",
    "    \n",
    "    # Set objective: minimize maximum distance\n",
    "    s = sum(distance_matrix[i][j] * X[i, j] for i in range(N) for j in range(N) if i != j)\n",
    "    solver.Minimize(s)\n",
    "    \n",
    "    # Add constraints\n",
    "    add_constraints(solver, N,X, distance_matrix)\n",
    "    \n",
    "    # Solve the problem\n",
    "    status = solver.Solve()\n",
    "    \n",
    "    # Output results\n",
    "    if status == pywraplp.Solver.OPTIMAL:\n",
    "        print(s.solution_value())\n",
    "        routes = extract_routes(X,N)\n",
    "        print(routes)\n",
    "    else:\n",
    "        print('No optimal solution found.')\n",
    "\n",
    "main()"
   ]
  },
  {
   "cell_type": "code",
   "execution_count": null,
   "id": "353d5d90",
   "metadata": {},
   "outputs": [],
   "source": []
  }
 ],
 "metadata": {
  "kernelspec": {
   "display_name": "Python 3 (ipykernel)",
   "language": "python",
   "name": "python3"
  },
  "language_info": {
   "codemirror_mode": {
    "name": "ipython",
    "version": 3
   },
   "file_extension": ".py",
   "mimetype": "text/x-python",
   "name": "python",
   "nbconvert_exporter": "python",
   "pygments_lexer": "ipython3",
   "version": "3.11.4"
  }
 },
 "nbformat": 4,
 "nbformat_minor": 5
}
