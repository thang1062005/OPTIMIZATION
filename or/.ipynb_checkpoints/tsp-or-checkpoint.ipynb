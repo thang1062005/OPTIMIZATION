{
 "cells": [
  {
   "cell_type": "code",
   "execution_count": 10,
   "id": "0443394e",
   "metadata": {},
   "outputs": [
    {
     "name": "stdout",
     "output_type": "stream",
     "text": [
      "Objective value: 80.0\n",
      "Optimal path: [(0, 1), (1, 0), (2, 3), (3, 2)]\n"
     ]
    }
   ],
   "source": [
    "from ortools.linear_solver import pywraplp\n",
    "\n",
    "def solve_tsp(dist_matrix):\n",
    "    n = len(dist_matrix)\n",
    "    solver = pywraplp.Solver.CreateSolver('SCIP')\n",
    "    \n",
    "    \n",
    "    \n",
    "    # Decision Variables: X[i][j] = 1 if path goes from city i to city j, else 0\n",
    "    X = {}\n",
    "    for i in range(n):\n",
    "        for j in range(n):\n",
    "            if i != j:\n",
    "                X[i, j] = solver.BoolVar(f'X[{i},{j}]')\n",
    "    \n",
    "    # Objective function: Minimize sum of distances * X[i][j]\n",
    "    solver.Minimize(solver.Sum(dist_matrix[i][j] * X[i, j] for i in range(n) for j in range(n) if i != j))\n",
    "    \n",
    "    \n",
    "    # Constraint 1: Each city is entered and exited exactly once\n",
    "    for i in range(n):\n",
    "        solver.Add(solver.Sum(X[i, j] for j in range(n) if i != j) == 1)  # Exit constraint\n",
    "        solver.Add(solver.Sum(X[j, i] for j in range(n) if i != j) == 1)  # Enter constraint\n",
    "\n",
    "        \n",
    "    # Subtour elimination constraints using the Miller-Tucker-Zemlin (MTZ) formulation\n",
    "    \n",
    "\n",
    "                \n",
    "                \n",
    "    # Solve the problem\n",
    "    status = solver.Solve()\n",
    "\n",
    "    # Check if a solution has been found\n",
    "    if status == pywraplp.Solver.OPTIMAL:\n",
    "        print('Objective value:', solver.Objective().Value())\n",
    "        solution = []\n",
    "        for i in range(n):\n",
    "            for j in range(n):\n",
    "                if i != j and X[i, j].solution_value() > 0.5:\n",
    "                    solution.append((i, j))\n",
    "        return solution\n",
    "    else:\n",
    "        print(\"No optimal solution found.\")\n",
    "        return None\n",
    "\n",
    "# Example distance matrix (symmetric)\n",
    "dist_matrix = [\n",
    "    [0, 10, 15, 20],\n",
    "    [10, 0, 35, 25],\n",
    "    [15, 35, 0, 30],\n",
    "    [20, 25, 30, 0]\n",
    "]\n",
    "\n",
    "solution = solve_tsp(dist_matrix)\n",
    "print(\"Optimal path:\", solution)\n"
   ]
  },
  {
   "cell_type": "code",
   "execution_count": null,
   "id": "2318f413",
   "metadata": {},
   "outputs": [],
   "source": []
  }
 ],
 "metadata": {
  "kernelspec": {
   "display_name": "Python 3 (ipykernel)",
   "language": "python",
   "name": "python3"
  },
  "language_info": {
   "codemirror_mode": {
    "name": "ipython",
    "version": 3
   },
   "file_extension": ".py",
   "mimetype": "text/x-python",
   "name": "python",
   "nbconvert_exporter": "python",
   "pygments_lexer": "ipython3",
   "version": "3.11.4"
  }
 },
 "nbformat": 4,
 "nbformat_minor": 5
}
